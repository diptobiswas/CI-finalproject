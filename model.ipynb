{
 "cells": [
  {
   "cell_type": "code",
   "execution_count": 1,
   "metadata": {},
   "outputs": [
    {
     "name": "stdout",
     "output_type": "stream",
     "text": [
      "Defaulting to user installation because normal site-packages is not writeable\n",
      "Requirement already satisfied: torch in /home/imagtang/.local/lib/python3.10/site-packages (2.1.1)\n",
      "Requirement already satisfied: torchaudio in /home/imagtang/.local/lib/python3.10/site-packages (2.1.1)\n",
      "Requirement already satisfied: transformers in /home/imagtang/.local/lib/python3.10/site-packages (4.35.2)\n",
      "Requirement already satisfied: datasets[audio] in /home/imagtang/.local/lib/python3.10/site-packages (2.15.0)\n",
      "Requirement already satisfied: scikit-learn in /home/imagtang/.local/lib/python3.10/site-packages (1.3.2)\n",
      "Requirement already satisfied: numpy in /home/imagtang/.local/lib/python3.10/site-packages (1.26.2)\n",
      "Requirement already satisfied: matplotlib in /home/imagtang/.local/lib/python3.10/site-packages (3.8.1)\n",
      "Requirement already satisfied: nvidia-curand-cu12==10.3.2.106 in /home/imagtang/.local/lib/python3.10/site-packages (from torch) (10.3.2.106)\n",
      "Requirement already satisfied: sympy in /home/imagtang/.local/lib/python3.10/site-packages (from torch) (1.12)\n",
      "Requirement already satisfied: jinja2 in /home/imagtang/.local/lib/python3.10/site-packages (from torch) (3.1.2)\n",
      "Requirement already satisfied: nvidia-cublas-cu12==12.1.3.1 in /home/imagtang/.local/lib/python3.10/site-packages (from torch) (12.1.3.1)\n",
      "Requirement already satisfied: networkx in /home/imagtang/.local/lib/python3.10/site-packages (from torch) (3.2.1)\n",
      "Requirement already satisfied: nvidia-cuda-runtime-cu12==12.1.105 in /home/imagtang/.local/lib/python3.10/site-packages (from torch) (12.1.105)\n",
      "Requirement already satisfied: typing-extensions in /home/imagtang/.local/lib/python3.10/site-packages (from torch) (4.8.0)\n",
      "Requirement already satisfied: nvidia-cufft-cu12==11.0.2.54 in /home/imagtang/.local/lib/python3.10/site-packages (from torch) (11.0.2.54)\n",
      "Requirement already satisfied: nvidia-cuda-nvrtc-cu12==12.1.105 in /home/imagtang/.local/lib/python3.10/site-packages (from torch) (12.1.105)\n",
      "Requirement already satisfied: filelock in /home/imagtang/.local/lib/python3.10/site-packages (from torch) (3.13.1)\n",
      "Requirement already satisfied: nvidia-cusparse-cu12==12.1.0.106 in /home/imagtang/.local/lib/python3.10/site-packages (from torch) (12.1.0.106)\n",
      "Requirement already satisfied: nvidia-nvtx-cu12==12.1.105 in /home/imagtang/.local/lib/python3.10/site-packages (from torch) (12.1.105)\n",
      "Requirement already satisfied: nvidia-cusolver-cu12==11.4.5.107 in /home/imagtang/.local/lib/python3.10/site-packages (from torch) (11.4.5.107)\n",
      "Requirement already satisfied: fsspec in /home/imagtang/.local/lib/python3.10/site-packages (from torch) (2023.10.0)\n",
      "Requirement already satisfied: nvidia-nccl-cu12==2.18.1 in /home/imagtang/.local/lib/python3.10/site-packages (from torch) (2.18.1)\n",
      "Requirement already satisfied: triton==2.1.0 in /home/imagtang/.local/lib/python3.10/site-packages (from torch) (2.1.0)\n",
      "Requirement already satisfied: nvidia-cuda-cupti-cu12==12.1.105 in /home/imagtang/.local/lib/python3.10/site-packages (from torch) (12.1.105)\n",
      "Requirement already satisfied: nvidia-cudnn-cu12==8.9.2.26 in /home/imagtang/.local/lib/python3.10/site-packages (from torch) (8.9.2.26)\n",
      "Requirement already satisfied: nvidia-nvjitlink-cu12 in /home/imagtang/.local/lib/python3.10/site-packages (from nvidia-cusolver-cu12==11.4.5.107->torch) (12.3.101)\n",
      "Requirement already satisfied: huggingface-hub<1.0,>=0.16.4 in /home/imagtang/.local/lib/python3.10/site-packages (from transformers) (0.19.4)\n",
      "Requirement already satisfied: safetensors>=0.3.1 in /home/imagtang/.local/lib/python3.10/site-packages (from transformers) (0.4.0)\n",
      "Requirement already satisfied: tokenizers<0.19,>=0.14 in /home/imagtang/.local/lib/python3.10/site-packages (from transformers) (0.15.0)\n",
      "Requirement already satisfied: packaging>=20.0 in /home/imagtang/.local/lib/python3.10/site-packages (from transformers) (23.2)\n",
      "Requirement already satisfied: pyyaml>=5.1 in /usr/lib/python3/dist-packages (from transformers) (5.4.1)\n",
      "Requirement already satisfied: tqdm>=4.27 in /home/imagtang/.local/lib/python3.10/site-packages (from transformers) (4.66.1)\n",
      "Requirement already satisfied: requests in /home/imagtang/.local/lib/python3.10/site-packages (from transformers) (2.31.0)\n",
      "Requirement already satisfied: regex!=2019.12.17 in /home/imagtang/.local/lib/python3.10/site-packages (from transformers) (2023.10.3)\n",
      "Requirement already satisfied: xxhash in /home/imagtang/.local/lib/python3.10/site-packages (from datasets[audio]) (3.4.1)\n",
      "Requirement already satisfied: dill<0.3.8,>=0.3.0 in /home/imagtang/.local/lib/python3.10/site-packages (from datasets[audio]) (0.3.7)\n",
      "Requirement already satisfied: pyarrow>=8.0.0 in /home/imagtang/.local/lib/python3.10/site-packages (from datasets[audio]) (14.0.1)\n",
      "Requirement already satisfied: aiohttp in /home/imagtang/.local/lib/python3.10/site-packages (from datasets[audio]) (3.9.0)\n",
      "Requirement already satisfied: multiprocess in /home/imagtang/.local/lib/python3.10/site-packages (from datasets[audio]) (0.70.15)\n",
      "Requirement already satisfied: pyarrow-hotfix in /home/imagtang/.local/lib/python3.10/site-packages (from datasets[audio]) (0.6)\n",
      "Requirement already satisfied: pandas in /home/imagtang/.local/lib/python3.10/site-packages (from datasets[audio]) (2.1.3)\n",
      "Requirement already satisfied: soundfile>=0.12.1 in /home/imagtang/.local/lib/python3.10/site-packages (from datasets[audio]) (0.12.1)\n",
      "Requirement already satisfied: librosa in /home/imagtang/.local/lib/python3.10/site-packages (from datasets[audio]) (0.10.1)\n",
      "Requirement already satisfied: joblib>=1.1.1 in /home/imagtang/.local/lib/python3.10/site-packages (from scikit-learn) (1.3.2)\n",
      "Requirement already satisfied: threadpoolctl>=2.0.0 in /home/imagtang/.local/lib/python3.10/site-packages (from scikit-learn) (3.2.0)\n",
      "Requirement already satisfied: scipy>=1.5.0 in /home/imagtang/.local/lib/python3.10/site-packages (from scikit-learn) (1.11.3)\n",
      "Requirement already satisfied: cycler>=0.10 in /home/imagtang/.local/lib/python3.10/site-packages (from matplotlib) (0.12.1)\n",
      "Requirement already satisfied: pillow>=8 in /home/imagtang/.local/lib/python3.10/site-packages (from matplotlib) (10.1.0)\n",
      "Requirement already satisfied: contourpy>=1.0.1 in /home/imagtang/.local/lib/python3.10/site-packages (from matplotlib) (1.2.0)\n",
      "Requirement already satisfied: fonttools>=4.22.0 in /home/imagtang/.local/lib/python3.10/site-packages (from matplotlib) (4.44.1)\n",
      "Requirement already satisfied: pyparsing>=2.3.1 in /usr/lib/python3/dist-packages (from matplotlib) (2.4.7)\n",
      "Requirement already satisfied: kiwisolver>=1.3.1 in /home/imagtang/.local/lib/python3.10/site-packages (from matplotlib) (1.4.5)\n",
      "Requirement already satisfied: python-dateutil>=2.7 in /home/imagtang/.local/lib/python3.10/site-packages (from matplotlib) (2.8.2)\n",
      "Requirement already satisfied: yarl<2.0,>=1.0 in /home/imagtang/.local/lib/python3.10/site-packages (from aiohttp->datasets[audio]) (1.9.3)\n",
      "Requirement already satisfied: multidict<7.0,>=4.5 in /home/imagtang/.local/lib/python3.10/site-packages (from aiohttp->datasets[audio]) (6.0.4)\n",
      "Requirement already satisfied: aiosignal>=1.1.2 in /home/imagtang/.local/lib/python3.10/site-packages (from aiohttp->datasets[audio]) (1.3.1)\n",
      "Requirement already satisfied: async-timeout<5.0,>=4.0 in /home/imagtang/.local/lib/python3.10/site-packages (from aiohttp->datasets[audio]) (4.0.3)\n",
      "Requirement already satisfied: frozenlist>=1.1.1 in /home/imagtang/.local/lib/python3.10/site-packages (from aiohttp->datasets[audio]) (1.4.0)\n",
      "Requirement already satisfied: attrs>=17.3.0 in /home/imagtang/.local/lib/python3.10/site-packages (from aiohttp->datasets[audio]) (23.1.0)\n",
      "Requirement already satisfied: six>=1.5 in /home/imagtang/.local/lib/python3.10/site-packages (from python-dateutil>=2.7->matplotlib) (1.16.0)\n",
      "Requirement already satisfied: idna<4,>=2.5 in /home/imagtang/.local/lib/python3.10/site-packages (from requests->transformers) (3.4)\n",
      "Requirement already satisfied: charset-normalizer<4,>=2 in /home/imagtang/.local/lib/python3.10/site-packages (from requests->transformers) (3.3.2)\n",
      "Requirement already satisfied: certifi>=2017.4.17 in /home/imagtang/.local/lib/python3.10/site-packages (from requests->transformers) (2023.7.22)\n",
      "Requirement already satisfied: urllib3<3,>=1.21.1 in /home/imagtang/.local/lib/python3.10/site-packages (from requests->transformers) (2.0.7)\n",
      "Requirement already satisfied: cffi>=1.0 in /home/imagtang/.local/lib/python3.10/site-packages (from soundfile>=0.12.1->datasets[audio]) (1.16.0)\n",
      "Requirement already satisfied: MarkupSafe>=2.0 in /home/imagtang/.local/lib/python3.10/site-packages (from jinja2->torch) (2.1.3)\n",
      "Requirement already satisfied: decorator>=4.3.0 in /home/imagtang/.local/lib/python3.10/site-packages (from librosa->datasets[audio]) (5.1.1)\n",
      "Requirement already satisfied: numba>=0.51.0 in /home/imagtang/.local/lib/python3.10/site-packages (from librosa->datasets[audio]) (0.58.1)\n",
      "Requirement already satisfied: soxr>=0.3.2 in /home/imagtang/.local/lib/python3.10/site-packages (from librosa->datasets[audio]) (0.3.7)\n",
      "Requirement already satisfied: msgpack>=1.0 in /home/imagtang/.local/lib/python3.10/site-packages (from librosa->datasets[audio]) (1.0.7)\n",
      "Requirement already satisfied: pooch>=1.0 in /home/imagtang/.local/lib/python3.10/site-packages (from librosa->datasets[audio]) (1.8.0)\n",
      "Requirement already satisfied: lazy-loader>=0.1 in /home/imagtang/.local/lib/python3.10/site-packages (from librosa->datasets[audio]) (0.3)\n",
      "Requirement already satisfied: audioread>=2.1.9 in /home/imagtang/.local/lib/python3.10/site-packages (from librosa->datasets[audio]) (3.0.1)\n",
      "Requirement already satisfied: tzdata>=2022.1 in /home/imagtang/.local/lib/python3.10/site-packages (from pandas->datasets[audio]) (2023.3)\n",
      "Requirement already satisfied: pytz>=2020.1 in /home/imagtang/.local/lib/python3.10/site-packages (from pandas->datasets[audio]) (2023.3.post1)\n",
      "Requirement already satisfied: mpmath>=0.19 in /home/imagtang/.local/lib/python3.10/site-packages (from sympy->torch) (1.3.0)\n",
      "Requirement already satisfied: pycparser in /home/imagtang/.local/lib/python3.10/site-packages (from cffi>=1.0->soundfile>=0.12.1->datasets[audio]) (2.21)\n",
      "Requirement already satisfied: llvmlite<0.42,>=0.41.0dev0 in /home/imagtang/.local/lib/python3.10/site-packages (from numba>=0.51.0->librosa->datasets[audio]) (0.41.1)\n",
      "Requirement already satisfied: platformdirs>=2.5.0 in /home/imagtang/.local/lib/python3.10/site-packages (from pooch>=1.0->librosa->datasets[audio]) (3.11.0)\n",
      "Note: you may need to restart the kernel to use updated packages.\n"
     ]
    }
   ],
   "source": [
    "# Install required libraries\n",
    "%pip install torch torchaudio transformers datasets[audio] scikit-learn numpy matplotlib"
   ]
  },
  {
   "cell_type": "code",
   "execution_count": 2,
   "metadata": {},
   "outputs": [],
   "source": [
    "# Import required libraries\n",
    "import torch\n",
    "\n",
    "from datasets import load_dataset\n",
    "from transformers import ClapModel, ClapProcessor\n",
    "from sklearn.naive_bayes import GaussianNB\n",
    "from sklearn.metrics import accuracy_score\n",
    "from sklearn.preprocessing import StandardScaler\n",
    "from sklearn.model_selection import train_test_split"
   ]
  },
  {
   "cell_type": "code",
   "execution_count": 3,
   "metadata": {},
   "outputs": [],
   "source": [
    "# Load dataset\n",
    "audio_dataset = load_dataset('TrainingDataPro/speech-emotion-recognition-dataset', split='train')\n",
    "\n",
    "# Load CLAP model\n",
    "model = ClapModel.from_pretrained('laion/larger_clap_music').to('cuda:0')\n",
    "processor = ClapProcessor.from_pretrained('laion/larger_clap_music')\n",
    "\n",
    "# Preprocess audio samples\n",
    "emotions = ['euphoric', 'joyfully', 'sad', 'surprised']\n",
    "sample_inputs = []\n",
    "audio_embeddings = []\n",
    "targets = []\n",
    "\n",
    "SAMPLING_RATE = 48000\n",
    "\n",
    "for emotion in emotions:\n",
    "    for sample in audio_dataset[emotion]:\n",
    "        sample_inputs.append(\n",
    "            processor(\n",
    "                audios=sample['array'],\n",
    "                sampling_rate=SAMPLING_RATE,\n",
    "                return_tensors='pt'\n",
    "            ).to('cuda:0')\n",
    "        )\n",
    "        targets.append(emotion)\n",
    "\n",
    "for inputs in sample_inputs:\n",
    "    audio_embeddings.append(model.get_audio_features(**inputs))\n",
    "    \n",
    "torch.save(audio_embeddings, 'audio_embeddings.pt')"
   ]
  },
  {
   "cell_type": "code",
   "execution_count": 4,
   "metadata": {},
   "outputs": [
    {
     "name": "stdout",
     "output_type": "stream",
     "text": [
      "(80, 512)\n",
      "[[-1.3522571  -0.05475908 -0.6743673  ...  0.6996808   0.65430874\n",
      "  -0.5138837 ]\n",
      " [ 0.50268257  0.63566035  3.7786016  ...  0.38104382  2.0940197\n",
      "   0.65663946]\n",
      " [ 0.7463173   0.5486661   0.67125165 ... -1.7268778  -1.084867\n",
      "   0.5785801 ]\n",
      " ...\n",
      " [ 0.2954817   0.2381683  -0.16123635 ...  0.42446738 -1.0245465\n",
      "   0.60514367]\n",
      " [-0.22036797 -0.13910376 -0.90836185 ...  0.9615125   0.09734965\n",
      "   0.3090269 ]\n",
      " [ 2.0981119  -0.27093282  0.71846426 ... -1.3601024  -0.06620956\n",
      "   1.1445159 ]]\n"
     ]
    }
   ],
   "source": [
    "# Flatten and process embeddings\n",
    "flattened_embeddings = [embedding.view(-1) for embedding in audio_embeddings]\n",
    "embedding_matrix = torch.stack(flattened_embeddings)\n",
    "\n",
    "# Convert embeddings from tensor to numpy arrays\n",
    "embedding_matrix = embedding_matrix.detach().cpu().numpy()\n",
    "\n",
    "# Scale embedding data\n",
    "scaler = StandardScaler()\n",
    "embedding_matrix = scaler.fit_transform(embedding_matrix)\n",
    "print(embedding_matrix.shape)\n",
    "print(embedding_matrix)"
   ]
  },
  {
   "cell_type": "code",
   "execution_count": 5,
   "metadata": {},
   "outputs": [
    {
     "name": "stdout",
     "output_type": "stream",
     "text": [
      "63\n"
     ]
    },
    {
     "ename": "TypeError",
     "evalue": "GaussianNB.fit() missing 2 required positional arguments: 'X' and 'y'",
     "output_type": "error",
     "traceback": [
      "\u001b[0;31m---------------------------------------------------------------------------\u001b[0m",
      "\u001b[0;31mTypeError\u001b[0m                                 Traceback (most recent call last)",
      "\u001b[1;32m/home/imagtang/University/F2023/CIS4780/CI-finalproject/model.ipynb Cell 5\u001b[0m line \u001b[0;36m6\n\u001b[1;32m      <a href='vscode-notebook-cell://wsl%2Bubuntu/home/imagtang/University/F2023/CIS4780/CI-finalproject/model.ipynb#W6sdnNjb2RlLXJlbW90ZQ%3D%3D?line=2'>3</a>\u001b[0m \u001b[39mprint\u001b[39m(\u001b[39mlen\u001b[39m(train_embeddings))\n\u001b[1;32m      <a href='vscode-notebook-cell://wsl%2Bubuntu/home/imagtang/University/F2023/CIS4780/CI-finalproject/model.ipynb#W6sdnNjb2RlLXJlbW90ZQ%3D%3D?line=4'>5</a>\u001b[0m model \u001b[39m=\u001b[39m GaussianNB()\n\u001b[0;32m----> <a href='vscode-notebook-cell://wsl%2Bubuntu/home/imagtang/University/F2023/CIS4780/CI-finalproject/model.ipynb#W6sdnNjb2RlLXJlbW90ZQ%3D%3D?line=5'>6</a>\u001b[0m model\u001b[39m.\u001b[39;49mfit()\n\u001b[1;32m      <a href='vscode-notebook-cell://wsl%2Bubuntu/home/imagtang/University/F2023/CIS4780/CI-finalproject/model.ipynb#W6sdnNjb2RlLXJlbW90ZQ%3D%3D?line=7'>8</a>\u001b[0m train_pred \u001b[39m=\u001b[39m model\u001b[39m.\u001b[39mpredict(embedding_matrix)\n\u001b[1;32m      <a href='vscode-notebook-cell://wsl%2Bubuntu/home/imagtang/University/F2023/CIS4780/CI-finalproject/model.ipynb#W6sdnNjb2RlLXJlbW90ZQ%3D%3D?line=8'>9</a>\u001b[0m test_pred \u001b[39m=\u001b[39m model\u001b[39m.\u001b[39mpredict(embedding_matrix)\n",
      "File \u001b[0;32m~/.local/lib/python3.10/site-packages/sklearn/base.py:1152\u001b[0m, in \u001b[0;36m_fit_context.<locals>.decorator.<locals>.wrapper\u001b[0;34m(estimator, *args, **kwargs)\u001b[0m\n\u001b[1;32m   1145\u001b[0m     estimator\u001b[39m.\u001b[39m_validate_params()\n\u001b[1;32m   1147\u001b[0m \u001b[39mwith\u001b[39;00m config_context(\n\u001b[1;32m   1148\u001b[0m     skip_parameter_validation\u001b[39m=\u001b[39m(\n\u001b[1;32m   1149\u001b[0m         prefer_skip_nested_validation \u001b[39mor\u001b[39;00m global_skip_validation\n\u001b[1;32m   1150\u001b[0m     )\n\u001b[1;32m   1151\u001b[0m ):\n\u001b[0;32m-> 1152\u001b[0m     \u001b[39mreturn\u001b[39;00m fit_method(estimator, \u001b[39m*\u001b[39;49margs, \u001b[39m*\u001b[39;49m\u001b[39m*\u001b[39;49mkwargs)\n",
      "\u001b[0;31mTypeError\u001b[0m: GaussianNB.fit() missing 2 required positional arguments: 'X' and 'y'"
     ]
    }
   ],
   "source": [
    "# TO-DO - STILL BROKEN\n",
    "# Train Naive-Bayes classifier\n",
    "train_embeddings = audio_embeddings[0:63]\n",
    "print(len(train_embeddings))\n",
    "\n",
    "model = GaussianNB()\n",
    "model.fit()\n",
    "\n",
    "train_pred = model.predict(embedding_matrix)\n",
    "test_pred = model.predict(embedding_matrix)\n",
    "train_accuracy = accuracy_score(train_pred, targets)\n",
    "\n",
    "print(train_accuracy)"
   ]
  }
 ],
 "metadata": {
  "kernelspec": {
   "display_name": "Python 3",
   "language": "python",
   "name": "python3"
  },
  "language_info": {
   "codemirror_mode": {
    "name": "ipython",
    "version": 3
   },
   "file_extension": ".py",
   "mimetype": "text/x-python",
   "name": "python",
   "nbconvert_exporter": "python",
   "pygments_lexer": "ipython3",
   "version": "3.10.12"
  }
 },
 "nbformat": 4,
 "nbformat_minor": 2
}
