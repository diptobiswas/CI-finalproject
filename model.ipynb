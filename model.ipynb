{
 "cells": [
  {
   "cell_type": "code",
   "execution_count": 1,
   "metadata": {},
   "outputs": [
    {
     "name": "stdout",
     "output_type": "stream",
     "text": [
      "Defaulting to user installation because normal site-packages is not writeable\n",
      "Requirement already satisfied: torch in /home/imagtang/.local/lib/python3.10/site-packages (2.1.1)\n",
      "Requirement already satisfied: torchaudio in /home/imagtang/.local/lib/python3.10/site-packages (2.1.1)\n",
      "Requirement already satisfied: transformers in /home/imagtang/.local/lib/python3.10/site-packages (4.35.2)\n",
      "Requirement already satisfied: datasets[audio] in /home/imagtang/.local/lib/python3.10/site-packages (2.15.0)\n",
      "Requirement already satisfied: scikit-learn in /home/imagtang/.local/lib/python3.10/site-packages (1.3.2)\n",
      "Requirement already satisfied: numpy in /home/imagtang/.local/lib/python3.10/site-packages (1.26.2)\n",
      "Requirement already satisfied: matplotlib in /home/imagtang/.local/lib/python3.10/site-packages (3.8.1)\n",
      "Requirement already satisfied: typing-extensions in /home/imagtang/.local/lib/python3.10/site-packages (from torch) (4.8.0)\n",
      "Requirement already satisfied: nvidia-cudnn-cu12==8.9.2.26 in /home/imagtang/.local/lib/python3.10/site-packages (from torch) (8.9.2.26)\n",
      "Requirement already satisfied: nvidia-cusolver-cu12==11.4.5.107 in /home/imagtang/.local/lib/python3.10/site-packages (from torch) (11.4.5.107)\n",
      "Requirement already satisfied: nvidia-nccl-cu12==2.18.1 in /home/imagtang/.local/lib/python3.10/site-packages (from torch) (2.18.1)\n",
      "Requirement already satisfied: nvidia-cuda-cupti-cu12==12.1.105 in /home/imagtang/.local/lib/python3.10/site-packages (from torch) (12.1.105)\n",
      "Requirement already satisfied: filelock in /home/imagtang/.local/lib/python3.10/site-packages (from torch) (3.13.1)\n",
      "Requirement already satisfied: jinja2 in /home/imagtang/.local/lib/python3.10/site-packages (from torch) (3.1.2)\n",
      "Requirement already satisfied: nvidia-cuda-runtime-cu12==12.1.105 in /home/imagtang/.local/lib/python3.10/site-packages (from torch) (12.1.105)\n",
      "Requirement already satisfied: nvidia-curand-cu12==10.3.2.106 in /home/imagtang/.local/lib/python3.10/site-packages (from torch) (10.3.2.106)\n",
      "Requirement already satisfied: triton==2.1.0 in /home/imagtang/.local/lib/python3.10/site-packages (from torch) (2.1.0)\n",
      "Requirement already satisfied: fsspec in /home/imagtang/.local/lib/python3.10/site-packages (from torch) (2023.10.0)\n",
      "Requirement already satisfied: sympy in /home/imagtang/.local/lib/python3.10/site-packages (from torch) (1.12)\n",
      "Requirement already satisfied: nvidia-cublas-cu12==12.1.3.1 in /home/imagtang/.local/lib/python3.10/site-packages (from torch) (12.1.3.1)\n",
      "Requirement already satisfied: nvidia-nvtx-cu12==12.1.105 in /home/imagtang/.local/lib/python3.10/site-packages (from torch) (12.1.105)\n",
      "Requirement already satisfied: networkx in /home/imagtang/.local/lib/python3.10/site-packages (from torch) (3.2.1)\n",
      "Requirement already satisfied: nvidia-cusparse-cu12==12.1.0.106 in /home/imagtang/.local/lib/python3.10/site-packages (from torch) (12.1.0.106)\n",
      "Requirement already satisfied: nvidia-cufft-cu12==11.0.2.54 in /home/imagtang/.local/lib/python3.10/site-packages (from torch) (11.0.2.54)\n",
      "Requirement already satisfied: nvidia-cuda-nvrtc-cu12==12.1.105 in /home/imagtang/.local/lib/python3.10/site-packages (from torch) (12.1.105)\n",
      "Requirement already satisfied: nvidia-nvjitlink-cu12 in /home/imagtang/.local/lib/python3.10/site-packages (from nvidia-cusolver-cu12==11.4.5.107->torch) (12.3.101)\n",
      "Requirement already satisfied: huggingface-hub<1.0,>=0.16.4 in /home/imagtang/.local/lib/python3.10/site-packages (from transformers) (0.19.4)\n",
      "Requirement already satisfied: pyyaml>=5.1 in /usr/lib/python3/dist-packages (from transformers) (5.4.1)\n",
      "Requirement already satisfied: requests in /home/imagtang/.local/lib/python3.10/site-packages (from transformers) (2.31.0)\n",
      "Requirement already satisfied: tokenizers<0.19,>=0.14 in /home/imagtang/.local/lib/python3.10/site-packages (from transformers) (0.15.0)\n",
      "Requirement already satisfied: safetensors>=0.3.1 in /home/imagtang/.local/lib/python3.10/site-packages (from transformers) (0.4.0)\n",
      "Requirement already satisfied: regex!=2019.12.17 in /home/imagtang/.local/lib/python3.10/site-packages (from transformers) (2023.10.3)\n",
      "Requirement already satisfied: tqdm>=4.27 in /home/imagtang/.local/lib/python3.10/site-packages (from transformers) (4.66.1)\n",
      "Requirement already satisfied: packaging>=20.0 in /home/imagtang/.local/lib/python3.10/site-packages (from transformers) (23.2)\n",
      "Requirement already satisfied: pandas in /home/imagtang/.local/lib/python3.10/site-packages (from datasets[audio]) (2.1.3)\n",
      "Requirement already satisfied: dill<0.3.8,>=0.3.0 in /home/imagtang/.local/lib/python3.10/site-packages (from datasets[audio]) (0.3.7)\n",
      "Requirement already satisfied: xxhash in /home/imagtang/.local/lib/python3.10/site-packages (from datasets[audio]) (3.4.1)\n",
      "Requirement already satisfied: pyarrow-hotfix in /home/imagtang/.local/lib/python3.10/site-packages (from datasets[audio]) (0.6)\n",
      "Requirement already satisfied: pyarrow>=8.0.0 in /home/imagtang/.local/lib/python3.10/site-packages (from datasets[audio]) (14.0.1)\n",
      "Requirement already satisfied: multiprocess in /home/imagtang/.local/lib/python3.10/site-packages (from datasets[audio]) (0.70.15)\n",
      "Requirement already satisfied: aiohttp in /home/imagtang/.local/lib/python3.10/site-packages (from datasets[audio]) (3.9.0)\n",
      "Requirement already satisfied: librosa in /home/imagtang/.local/lib/python3.10/site-packages (from datasets[audio]) (0.10.1)\n",
      "Requirement already satisfied: soundfile>=0.12.1 in /home/imagtang/.local/lib/python3.10/site-packages (from datasets[audio]) (0.12.1)\n",
      "Requirement already satisfied: scipy>=1.5.0 in /home/imagtang/.local/lib/python3.10/site-packages (from scikit-learn) (1.11.3)\n",
      "Requirement already satisfied: joblib>=1.1.1 in /home/imagtang/.local/lib/python3.10/site-packages (from scikit-learn) (1.3.2)\n",
      "Requirement already satisfied: threadpoolctl>=2.0.0 in /home/imagtang/.local/lib/python3.10/site-packages (from scikit-learn) (3.2.0)\n",
      "Requirement already satisfied: cycler>=0.10 in /home/imagtang/.local/lib/python3.10/site-packages (from matplotlib) (0.12.1)\n",
      "Requirement already satisfied: contourpy>=1.0.1 in /home/imagtang/.local/lib/python3.10/site-packages (from matplotlib) (1.2.0)\n",
      "Requirement already satisfied: pillow>=8 in /home/imagtang/.local/lib/python3.10/site-packages (from matplotlib) (10.1.0)\n",
      "Requirement already satisfied: pyparsing>=2.3.1 in /usr/lib/python3/dist-packages (from matplotlib) (2.4.7)\n",
      "Requirement already satisfied: python-dateutil>=2.7 in /home/imagtang/.local/lib/python3.10/site-packages (from matplotlib) (2.8.2)\n",
      "Requirement already satisfied: kiwisolver>=1.3.1 in /home/imagtang/.local/lib/python3.10/site-packages (from matplotlib) (1.4.5)\n",
      "Requirement already satisfied: fonttools>=4.22.0 in /home/imagtang/.local/lib/python3.10/site-packages (from matplotlib) (4.44.1)\n",
      "Requirement already satisfied: aiosignal>=1.1.2 in /home/imagtang/.local/lib/python3.10/site-packages (from aiohttp->datasets[audio]) (1.3.1)\n",
      "Requirement already satisfied: frozenlist>=1.1.1 in /home/imagtang/.local/lib/python3.10/site-packages (from aiohttp->datasets[audio]) (1.4.0)\n",
      "Requirement already satisfied: attrs>=17.3.0 in /home/imagtang/.local/lib/python3.10/site-packages (from aiohttp->datasets[audio]) (23.1.0)\n",
      "Requirement already satisfied: multidict<7.0,>=4.5 in /home/imagtang/.local/lib/python3.10/site-packages (from aiohttp->datasets[audio]) (6.0.4)\n",
      "Requirement already satisfied: async-timeout<5.0,>=4.0 in /home/imagtang/.local/lib/python3.10/site-packages (from aiohttp->datasets[audio]) (4.0.3)\n",
      "Requirement already satisfied: yarl<2.0,>=1.0 in /home/imagtang/.local/lib/python3.10/site-packages (from aiohttp->datasets[audio]) (1.9.3)\n",
      "Requirement already satisfied: six>=1.5 in /home/imagtang/.local/lib/python3.10/site-packages (from python-dateutil>=2.7->matplotlib) (1.16.0)\n",
      "Requirement already satisfied: certifi>=2017.4.17 in /home/imagtang/.local/lib/python3.10/site-packages (from requests->transformers) (2023.7.22)\n",
      "Requirement already satisfied: idna<4,>=2.5 in /home/imagtang/.local/lib/python3.10/site-packages (from requests->transformers) (3.4)\n",
      "Requirement already satisfied: charset-normalizer<4,>=2 in /home/imagtang/.local/lib/python3.10/site-packages (from requests->transformers) (3.3.2)\n",
      "Requirement already satisfied: urllib3<3,>=1.21.1 in /home/imagtang/.local/lib/python3.10/site-packages (from requests->transformers) (2.0.7)\n",
      "Requirement already satisfied: cffi>=1.0 in /home/imagtang/.local/lib/python3.10/site-packages (from soundfile>=0.12.1->datasets[audio]) (1.16.0)\n",
      "Requirement already satisfied: MarkupSafe>=2.0 in /home/imagtang/.local/lib/python3.10/site-packages (from jinja2->torch) (2.1.3)\n",
      "Requirement already satisfied: decorator>=4.3.0 in /home/imagtang/.local/lib/python3.10/site-packages (from librosa->datasets[audio]) (5.1.1)\n",
      "Requirement already satisfied: soxr>=0.3.2 in /home/imagtang/.local/lib/python3.10/site-packages (from librosa->datasets[audio]) (0.3.7)\n",
      "Requirement already satisfied: lazy-loader>=0.1 in /home/imagtang/.local/lib/python3.10/site-packages (from librosa->datasets[audio]) (0.3)\n",
      "Requirement already satisfied: numba>=0.51.0 in /home/imagtang/.local/lib/python3.10/site-packages (from librosa->datasets[audio]) (0.58.1)\n",
      "Requirement already satisfied: pooch>=1.0 in /home/imagtang/.local/lib/python3.10/site-packages (from librosa->datasets[audio]) (1.8.0)\n",
      "Requirement already satisfied: audioread>=2.1.9 in /home/imagtang/.local/lib/python3.10/site-packages (from librosa->datasets[audio]) (3.0.1)\n",
      "Requirement already satisfied: msgpack>=1.0 in /home/imagtang/.local/lib/python3.10/site-packages (from librosa->datasets[audio]) (1.0.7)\n",
      "Requirement already satisfied: tzdata>=2022.1 in /home/imagtang/.local/lib/python3.10/site-packages (from pandas->datasets[audio]) (2023.3)\n",
      "Requirement already satisfied: pytz>=2020.1 in /home/imagtang/.local/lib/python3.10/site-packages (from pandas->datasets[audio]) (2023.3.post1)\n",
      "Requirement already satisfied: mpmath>=0.19 in /home/imagtang/.local/lib/python3.10/site-packages (from sympy->torch) (1.3.0)\n",
      "Requirement already satisfied: pycparser in /home/imagtang/.local/lib/python3.10/site-packages (from cffi>=1.0->soundfile>=0.12.1->datasets[audio]) (2.21)\n",
      "Requirement already satisfied: llvmlite<0.42,>=0.41.0dev0 in /home/imagtang/.local/lib/python3.10/site-packages (from numba>=0.51.0->librosa->datasets[audio]) (0.41.1)\n",
      "Requirement already satisfied: platformdirs>=2.5.0 in /home/imagtang/.local/lib/python3.10/site-packages (from pooch>=1.0->librosa->datasets[audio]) (3.11.0)\n",
      "Note: you may need to restart the kernel to use updated packages.\n"
     ]
    }
   ],
   "source": [
    "# Install required libraries\n",
    "%pip install torch torchaudio transformers datasets[audio] scikit-learn numpy matplotlib"
   ]
  },
  {
   "cell_type": "code",
   "execution_count": 2,
   "metadata": {},
   "outputs": [],
   "source": [
    "# Import required libraries\n",
    "import torch\n",
    "import matplotlib.pyplot as plt\n",
    "\n",
    "from datasets import load_dataset\n",
    "from transformers import ClapModel, ClapProcessor\n",
    "from sklearn.naive_bayes import GaussianNB\n",
    "from sklearn.metrics import accuracy_score, f1_score, confusion_matrix, ConfusionMatrixDisplay"
   ]
  },
  {
   "cell_type": "code",
   "execution_count": 3,
   "metadata": {},
   "outputs": [],
   "source": [
    "def convert_to_target(emotion):\n",
    "    if emotion == 'euphoric':\n",
    "        return 1\n",
    "    elif emotion == 'joyfully':\n",
    "        return 2\n",
    "    elif emotion == 'sad':\n",
    "        return 3\n",
    "    elif emotion == 'surprised':\n",
    "        return 4\n",
    "    else:\n",
    "        return -1"
   ]
  },
  {
   "cell_type": "code",
   "execution_count": 4,
   "metadata": {},
   "outputs": [],
   "source": [
    "# Load dataset\n",
    "audio_dataset = load_dataset(\n",
    "    'TrainingDataPro/speech-emotion-recognition-dataset',\n",
    "    split='train'\n",
    ")\n",
    "\n",
    "# Load CLAP model\n",
    "model = ClapModel.from_pretrained('laion/larger_clap_music').to('cuda:0')\n",
    "processor = ClapProcessor.from_pretrained('laion/larger_clap_music')\n",
    "\n",
    "# Preprocess audio samples\n",
    "emotions = ['euphoric', 'joyfully', 'sad', 'surprised']\n",
    "sample_inputs = []\n",
    "audio_embeddings = []\n",
    "targets = []\n",
    "\n",
    "SAMPLING_RATE = 48000\n",
    "\n",
    "for emotion in emotions:\n",
    "    for sample in audio_dataset[emotion]:\n",
    "        sample_inputs.append(\n",
    "            processor(\n",
    "                audios=sample['array'],\n",
    "                sampling_rate=SAMPLING_RATE,\n",
    "                return_tensors='pt'\n",
    "            ).to('cuda:0')\n",
    "        )\n",
    "        targets.append(convert_to_target(emotion))\n",
    "\n",
    "for inputs in sample_inputs:\n",
    "    audio_embeddings.append(model.get_audio_features(**inputs))\n",
    "    \n",
    "torch.save(audio_embeddings, 'audio_embeddings.pt')"
   ]
  },
  {
   "cell_type": "code",
   "execution_count": 5,
   "metadata": {},
   "outputs": [
    {
     "name": "stdout",
     "output_type": "stream",
     "text": [
      "(80, 512)\n",
      "[[-0.0197334  -0.00249679  0.11328787 ... -0.08363502  0.04762014\n",
      "   0.08813638]\n",
      " [-0.01700936 -0.00169819  0.12584828 ... -0.08392757  0.05042014\n",
      "   0.0900396 ]\n",
      " [-0.01665157 -0.00179881  0.11708343 ... -0.0858629   0.04423774\n",
      "   0.08991268]\n",
      " ...\n",
      " [-0.01731364 -0.00215796  0.11473525 ... -0.0838877   0.04435505\n",
      "   0.08995587]\n",
      " [-0.01807118 -0.00259435  0.11262784 ... -0.08339463  0.04653695\n",
      "   0.08947439]\n",
      " [-0.01466641 -0.00274683  0.1172166  ... -0.08552615  0.04621886\n",
      "   0.09083286]]\n"
     ]
    }
   ],
   "source": [
    "# Flatten embeddings\n",
    "flattened_embeddings = [embedding.view(-1) for embedding in audio_embeddings]\n",
    "embedding_matrix = torch.stack(flattened_embeddings)\n",
    "\n",
    "# Convert embeddings from tensor to numpy arrays\n",
    "embedding_matrix = embedding_matrix.detach().cpu().numpy()\n",
    "print(embedding_matrix.shape)\n",
    "print(embedding_matrix)"
   ]
  },
  {
   "cell_type": "code",
   "execution_count": 6,
   "metadata": {},
   "outputs": [],
   "source": [
    "NUM_TRAINING = 15\n",
    "\n",
    "def create_splits(data, targets):\n",
    "    train_data = []\n",
    "    train_targets = []\n",
    "    test_data = []\n",
    "    test_targets = []\n",
    "    \n",
    "    for index in range(80):\n",
    "        if index % 20 < NUM_TRAINING:\n",
    "            train_data.append(data[index])\n",
    "            train_targets.append(targets[index])\n",
    "        else:\n",
    "            test_data.append(data[index])\n",
    "            test_targets.append(targets[index])\n",
    "    \n",
    "    return train_data, test_data, train_targets, test_targets"
   ]
  },
  {
   "cell_type": "code",
   "execution_count": 7,
   "metadata": {},
   "outputs": [],
   "source": [
    "# Train Naive-Bayes classifier\n",
    "X_train, X_test, y_train, y_test = create_splits(embedding_matrix, targets)\n",
    "\n",
    "model = GaussianNB()\n",
    "model.fit(X_train, y_train)\n",
    "\n",
    "train_pred = model.predict(X_train)\n",
    "test_pred = model.predict(X_test)\n",
    "\n",
    "train_accuracy = accuracy_score(train_pred, y_train)\n",
    "test_accuracy = accuracy_score(test_pred, y_test)\n",
    "train_f1 = f1_score(train_pred, y_train, average=\"weighted\")\n",
    "test_f1 = f1_score(test_pred, y_test, average=\"weighted\")"
   ]
  },
  {
   "cell_type": "code",
   "execution_count": 8,
   "metadata": {},
   "outputs": [
    {
     "data": {
      "image/png": "[encoded data removed]",
      "text/plain": [
       "<Figure size 1200x600 with 4 Axes>"
      ]
     },
     "metadata": {},
     "output_type": "display_data"
    },
    {
     "name": "stdout",
     "output_type": "stream",
     "text": [
      "Training Accuracy: 0.41667\n",
      "Testing Accuracy: 0.4\n",
      "Training F-measure: 0.45022\n",
      "Testing F-measure: 0.45734\n"
     ]
    }
   ],
   "source": [
    "# Visualize confusion matrices\n",
    "labels = ['Euphoric', 'Joyfully', 'Sad', 'Surprised']\n",
    "\n",
    "train_cm = confusion_matrix(y_train, train_pred, labels=[1, 2, 3, 4])\n",
    "train_disp = ConfusionMatrixDisplay(confusion_matrix=train_cm, display_labels=labels)\n",
    "\n",
    "test_cm = confusion_matrix(y_test, test_pred, labels=[1, 2, 3, 4])\n",
    "test_disp = ConfusionMatrixDisplay(confusion_matrix=test_cm, display_labels=labels)\n",
    "\n",
    "fig, ax = plt.subplots(1, 2, figsize=(12, 6))\n",
    "train_disp.plot(ax=ax[0])\n",
    "ax[0].set_title(\"Training Confusion Matrix\")\n",
    "test_disp.plot(ax=ax[1])\n",
    "ax[1].set_title(\"Testing Confusion Matrix\")\n",
    "plt.tight_layout()\n",
    "plt.show()\n",
    "\n",
    "# Print accuracy scores\n",
    "print(\"Training Accuracy:\", round(train_accuracy, 5))\n",
    "print(\"Testing Accuracy:\", round(test_accuracy, 5))\n",
    "print(\"Training F-measure:\", round(train_f1, 5))\n",
    "print(\"Testing F-measure:\", round(test_f1, 5))"
   ]
  }
 ],
 "metadata": {
  "kernelspec": {
   "display_name": "Python 3",
   "language": "python",
   "name": "python3"
  },
  "language_info": {
   "codemirror_mode": {
    "name": "ipython",
    "version": 3
   },
   "file_extension": ".py",
   "mimetype": "text/x-python",
   "name": "python",
   "nbconvert_exporter": "python",
   "pygments_lexer": "ipython3",
   "version": "3.10.12"
  }
 },
 "nbformat": 4,
 "nbformat_minor": 2
}
