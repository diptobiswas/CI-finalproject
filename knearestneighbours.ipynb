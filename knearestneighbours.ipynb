{
 "cells": [
  {
   "cell_type": "code",
   "execution_count": 1,
   "metadata": {},
   "outputs": [
    {
     "name": "stdout",
     "output_type": "stream",
     "text": [
      "Requirement already satisfied: torch in /Users/diptobiswas/.pyenv/versions/3.11.6/lib/python3.11/site-packages (2.1.1)\n",
      "Requirement already satisfied: torchaudio in /Users/diptobiswas/.pyenv/versions/3.11.6/lib/python3.11/site-packages (2.1.1)\n",
      "Requirement already satisfied: transformers in /Users/diptobiswas/.pyenv/versions/3.11.6/lib/python3.11/site-packages (4.35.2)\n",
      "Requirement already satisfied: datasets in /Users/diptobiswas/.pyenv/versions/3.11.6/lib/python3.11/site-packages (2.15.0)\n",
      "Requirement already satisfied: scikit-learn in /Users/diptobiswas/.pyenv/versions/3.11.6/lib/python3.11/site-packages (1.3.2)\n",
      "Requirement already satisfied: numpy in /Users/diptobiswas/.pyenv/versions/3.11.6/lib/python3.11/site-packages (1.23.5)\n",
      "Requirement already satisfied: matplotlib in /Users/diptobiswas/.pyenv/versions/3.11.6/lib/python3.11/site-packages (3.8.2)\n",
      "Requirement already satisfied: filelock in /Users/diptobiswas/.pyenv/versions/3.11.6/lib/python3.11/site-packages (from torch) (3.13.1)\n",
      "Requirement already satisfied: typing-extensions in /Users/diptobiswas/.pyenv/versions/3.11.6/lib/python3.11/site-packages (from torch) (4.8.0)\n",
      "Requirement already satisfied: sympy in /Users/diptobiswas/.pyenv/versions/3.11.6/lib/python3.11/site-packages (from torch) (1.12)\n",
      "Requirement already satisfied: networkx in /Users/diptobiswas/.pyenv/versions/3.11.6/lib/python3.11/site-packages (from torch) (3.2.1)\n",
      "Requirement already satisfied: jinja2 in /Users/diptobiswas/.pyenv/versions/3.11.6/lib/python3.11/site-packages (from torch) (3.1.2)\n",
      "Requirement already satisfied: fsspec in /Users/diptobiswas/.pyenv/versions/3.11.6/lib/python3.11/site-packages (from torch) (2023.10.0)\n",
      "Requirement already satisfied: huggingface-hub<1.0,>=0.16.4 in /Users/diptobiswas/.pyenv/versions/3.11.6/lib/python3.11/site-packages (from transformers) (0.19.4)\n",
      "Requirement already satisfied: packaging>=20.0 in /Users/diptobiswas/.pyenv/versions/3.11.6/lib/python3.11/site-packages (from transformers) (23.2)\n",
      "Requirement already satisfied: pyyaml>=5.1 in /Users/diptobiswas/.pyenv/versions/3.11.6/lib/python3.11/site-packages (from transformers) (6.0.1)\n",
      "Requirement already satisfied: regex!=2019.12.17 in /Users/diptobiswas/.pyenv/versions/3.11.6/lib/python3.11/site-packages (from transformers) (2023.10.3)\n",
      "Requirement already satisfied: requests in /Users/diptobiswas/.pyenv/versions/3.11.6/lib/python3.11/site-packages (from transformers) (2.31.0)\n",
      "Requirement already satisfied: tokenizers<0.19,>=0.14 in /Users/diptobiswas/.pyenv/versions/3.11.6/lib/python3.11/site-packages (from transformers) (0.15.0)\n",
      "Requirement already satisfied: safetensors>=0.3.1 in /Users/diptobiswas/.pyenv/versions/3.11.6/lib/python3.11/site-packages (from transformers) (0.4.1)\n",
      "Requirement already satisfied: tqdm>=4.27 in /Users/diptobiswas/.pyenv/versions/3.11.6/lib/python3.11/site-packages (from transformers) (4.66.1)\n",
      "Requirement already satisfied: pyarrow>=8.0.0 in /Users/diptobiswas/.pyenv/versions/3.11.6/lib/python3.11/site-packages (from datasets) (14.0.1)\n",
      "Requirement already satisfied: pyarrow-hotfix in /Users/diptobiswas/.pyenv/versions/3.11.6/lib/python3.11/site-packages (from datasets) (0.6)\n",
      "Requirement already satisfied: dill<0.3.8,>=0.3.0 in /Users/diptobiswas/.pyenv/versions/3.11.6/lib/python3.11/site-packages (from datasets) (0.3.7)\n",
      "Requirement already satisfied: pandas in /Users/diptobiswas/.pyenv/versions/3.11.6/lib/python3.11/site-packages (from datasets) (2.1.3)\n",
      "Requirement already satisfied: xxhash in /Users/diptobiswas/.pyenv/versions/3.11.6/lib/python3.11/site-packages (from datasets) (3.4.1)\n",
      "Requirement already satisfied: multiprocess in /Users/diptobiswas/.pyenv/versions/3.11.6/lib/python3.11/site-packages (from datasets) (0.70.15)\n",
      "Requirement already satisfied: aiohttp in /Users/diptobiswas/.pyenv/versions/3.11.6/lib/python3.11/site-packages (from datasets) (3.9.1)\n",
      "Requirement already satisfied: scipy>=1.5.0 in /Users/diptobiswas/.pyenv/versions/3.11.6/lib/python3.11/site-packages (from scikit-learn) (1.11.4)\n",
      "Requirement already satisfied: joblib>=1.1.1 in /Users/diptobiswas/.pyenv/versions/3.11.6/lib/python3.11/site-packages (from scikit-learn) (1.3.2)\n",
      "Requirement already satisfied: threadpoolctl>=2.0.0 in /Users/diptobiswas/.pyenv/versions/3.11.6/lib/python3.11/site-packages (from scikit-learn) (3.2.0)\n",
      "Requirement already satisfied: contourpy>=1.0.1 in /Users/diptobiswas/.pyenv/versions/3.11.6/lib/python3.11/site-packages (from matplotlib) (1.2.0)\n",
      "Requirement already satisfied: cycler>=0.10 in /Users/diptobiswas/.pyenv/versions/3.11.6/lib/python3.11/site-packages (from matplotlib) (0.12.1)\n",
      "Requirement already satisfied: fonttools>=4.22.0 in /Users/diptobiswas/.pyenv/versions/3.11.6/lib/python3.11/site-packages (from matplotlib) (4.46.0)\n",
      "Requirement already satisfied: kiwisolver>=1.3.1 in /Users/diptobiswas/.pyenv/versions/3.11.6/lib/python3.11/site-packages (from matplotlib) (1.4.5)\n",
      "Requirement already satisfied: pillow>=8 in /Users/diptobiswas/.pyenv/versions/3.11.6/lib/python3.11/site-packages (from matplotlib) (10.1.0)\n",
      "Requirement already satisfied: pyparsing>=2.3.1 in /Users/diptobiswas/.pyenv/versions/3.11.6/lib/python3.11/site-packages (from matplotlib) (3.1.1)\n",
      "Requirement already satisfied: python-dateutil>=2.7 in /Users/diptobiswas/.pyenv/versions/3.11.6/lib/python3.11/site-packages (from matplotlib) (2.8.2)\n",
      "Requirement already satisfied: attrs>=17.3.0 in /Users/diptobiswas/.pyenv/versions/3.11.6/lib/python3.11/site-packages (from aiohttp->datasets) (23.1.0)\n",
      "Requirement already satisfied: multidict<7.0,>=4.5 in /Users/diptobiswas/.pyenv/versions/3.11.6/lib/python3.11/site-packages (from aiohttp->datasets) (6.0.4)\n",
      "Requirement already satisfied: yarl<2.0,>=1.0 in /Users/diptobiswas/.pyenv/versions/3.11.6/lib/python3.11/site-packages (from aiohttp->datasets) (1.9.3)\n",
      "Requirement already satisfied: frozenlist>=1.1.1 in /Users/diptobiswas/.pyenv/versions/3.11.6/lib/python3.11/site-packages (from aiohttp->datasets) (1.4.0)\n",
      "Requirement already satisfied: aiosignal>=1.1.2 in /Users/diptobiswas/.pyenv/versions/3.11.6/lib/python3.11/site-packages (from aiohttp->datasets) (1.3.1)\n",
      "Requirement already satisfied: six>=1.5 in /Users/diptobiswas/.pyenv/versions/3.11.6/lib/python3.11/site-packages (from python-dateutil>=2.7->matplotlib) (1.16.0)\n",
      "Requirement already satisfied: charset-normalizer<4,>=2 in /Users/diptobiswas/.pyenv/versions/3.11.6/lib/python3.11/site-packages (from requests->transformers) (3.3.2)\n",
      "Requirement already satisfied: idna<4,>=2.5 in /Users/diptobiswas/.pyenv/versions/3.11.6/lib/python3.11/site-packages (from requests->transformers) (3.6)\n",
      "Requirement already satisfied: urllib3<3,>=1.21.1 in /Users/diptobiswas/.pyenv/versions/3.11.6/lib/python3.11/site-packages (from requests->transformers) (2.1.0)\n",
      "Requirement already satisfied: certifi>=2017.4.17 in /Users/diptobiswas/.pyenv/versions/3.11.6/lib/python3.11/site-packages (from requests->transformers) (2023.11.17)\n",
      "Requirement already satisfied: MarkupSafe>=2.0 in /Users/diptobiswas/.pyenv/versions/3.11.6/lib/python3.11/site-packages (from jinja2->torch) (2.1.3)\n",
      "Requirement already satisfied: pytz>=2020.1 in /Users/diptobiswas/.pyenv/versions/3.11.6/lib/python3.11/site-packages (from pandas->datasets) (2023.3.post1)\n",
      "Requirement already satisfied: tzdata>=2022.1 in /Users/diptobiswas/.pyenv/versions/3.11.6/lib/python3.11/site-packages (from pandas->datasets) (2023.3)\n",
      "Requirement already satisfied: mpmath>=0.19 in /Users/diptobiswas/.pyenv/versions/3.11.6/lib/python3.11/site-packages (from sympy->torch) (1.3.0)\n",
      "\n",
      "\u001b[1m[\u001b[0m\u001b[34;49mnotice\u001b[0m\u001b[1;39;49m]\u001b[0m\u001b[39;49m A new release of pip is available: \u001b[0m\u001b[31;49m23.2.1\u001b[0m\u001b[39;49m -> \u001b[0m\u001b[32;49m23.3.1\u001b[0m\n",
      "\u001b[1m[\u001b[0m\u001b[34;49mnotice\u001b[0m\u001b[1;39;49m]\u001b[0m\u001b[39;49m To update, run: \u001b[0m\u001b[32;49mpip install --upgrade pip\u001b[0m\n",
      "Note: you may need to restart the kernel to use updated packages.\n"
     ]
    }
   ],
   "source": [
    "# Install required libraries\n",
    "%pip install torch torchaudio transformers datasets scikit-learn numpy matplotlib"
   ]
  },
  {
   "cell_type": "code",
   "execution_count": 2,
   "metadata": {},
   "outputs": [
    {
     "name": "stderr",
     "output_type": "stream",
     "text": [
      "/Users/diptobiswas/.pyenv/versions/3.11.6/lib/python3.11/site-packages/tqdm/auto.py:21: TqdmWarning: IProgress not found. Please update jupyter and ipywidgets. See https://ipywidgets.readthedocs.io/en/stable/user_install.html\n",
      "  from .autonotebook import tqdm as notebook_tqdm\n"
     ]
    }
   ],
   "source": [
    "from datasets import load_dataset\n",
    "from sklearn.metrics import accuracy_score, f1_score, confusion_matrix, ConfusionMatrixDisplay, classification_report"
   ]
  },
  {
   "cell_type": "code",
   "execution_count": 3,
   "metadata": {},
   "outputs": [
    {
     "name": "stdout",
     "output_type": "stream",
     "text": [
      "80\n"
     ]
    }
   ],
   "source": [
    "import torch\n",
    "device = torch.device('cpu')\n",
    "audio_embeddings = torch.load('audio_embeddings.pt', map_location=device)\n",
    "\n",
    "print(len(audio_embeddings))"
   ]
  },
  {
   "cell_type": "code",
   "execution_count": 4,
   "metadata": {},
   "outputs": [],
   "source": [
    "# Load dataset\n",
    "audio_dataset = load_dataset(\n",
    "    'TrainingDataPro/speech-emotion-recognition-dataset',\n",
    "    split='train'\n",
    ")\n",
    "\n",
    "def convert_to_target(emotion):\n",
    "    if emotion == 'euphoric':\n",
    "        return 1\n",
    "    elif emotion == 'joyfully':\n",
    "        return 2\n",
    "    elif emotion == 'sad':\n",
    "        return 3\n",
    "    elif emotion == 'surprised':\n",
    "        return 4\n",
    "    else:\n",
    "        return -1\n",
    "\n",
    "emotions = ['euphoric', 'joyfully', 'sad', 'surprised']\n",
    "targets = []\n",
    "\n",
    "for emotion in emotions:\n",
    "    for sample in audio_dataset[emotion]:\n",
    "        targets.append(convert_to_target(emotion))"
   ]
  },
  {
   "cell_type": "code",
   "execution_count": 5,
   "metadata": {},
   "outputs": [
    {
     "name": "stdout",
     "output_type": "stream",
     "text": [
      "(80, 512)\n",
      "[[-0.0197334  -0.00249679  0.11328787 ... -0.08363502  0.04762014\n",
      "   0.08813638]\n",
      " [-0.01700936 -0.00169819  0.12584828 ... -0.08392757  0.05042014\n",
      "   0.0900396 ]\n",
      " [-0.01665157 -0.00179881  0.11708343 ... -0.0858629   0.04423774\n",
      "   0.08991268]\n",
      " ...\n",
      " [-0.01731364 -0.00215796  0.11473525 ... -0.0838877   0.04435505\n",
      "   0.08995587]\n",
      " [-0.01807118 -0.00259435  0.11262784 ... -0.08339463  0.04653695\n",
      "   0.08947439]\n",
      " [-0.01466641 -0.00274683  0.1172166  ... -0.08552615  0.04621886\n",
      "   0.09083286]]\n"
     ]
    }
   ],
   "source": [
    "# Flatten embeddings\n",
    "flattened_embeddings = [embedding.view(-1) for embedding in audio_embeddings]\n",
    "embedding_matrix = torch.stack(flattened_embeddings)\n",
    "\n",
    "# Convert embeddings from tensor to numpy arrays\n",
    "embedding_matrix = embedding_matrix.detach().cpu().numpy()\n",
    "print(embedding_matrix.shape)\n",
    "print(embedding_matrix)"
   ]
  },
  {
   "cell_type": "code",
   "execution_count": 6,
   "metadata": {},
   "outputs": [],
   "source": [
    "NUM_TRAINING = 15\n",
    "\n",
    "def create_splits(data, targets):\n",
    "    train_data = []\n",
    "    train_targets = []\n",
    "    test_data = []\n",
    "    test_targets = []\n",
    "    \n",
    "    for index in range(80):\n",
    "        if index % 20 < NUM_TRAINING:\n",
    "            train_data.append(data[index])\n",
    "            train_targets.append(targets[index])\n",
    "        else:\n",
    "            test_data.append(data[index])\n",
    "            test_targets.append(targets[index])\n",
    "    \n",
    "    return train_data, test_data, train_targets, test_targets"
   ]
  },
  {
   "cell_type": "code",
   "execution_count": 7,
   "metadata": {},
   "outputs": [],
   "source": [
    "# Get train and test data sets\n",
    "X_train, X_test, y_train, y_test = create_splits(embedding_matrix, targets)"
   ]
  },
  {
   "cell_type": "code",
   "execution_count": 8,
   "metadata": {},
   "outputs": [],
   "source": [
    "import itertools\n",
    "import numpy as np\n",
    "import matplotlib.pyplot as plt\n",
    "from sklearn.neighbors import KNeighborsClassifier\n",
    "\n",
    "model = KNeighborsClassifier(n_neighbors=4)"
   ]
  },
  {
   "cell_type": "code",
   "execution_count": 9,
   "metadata": {},
   "outputs": [],
   "source": [
    "model.fit(X_train, y_train)\n",
    "\n",
    "train_pred = model.predict(X_train)\n",
    "test_pred = model.predict(X_test)\n",
    "\n",
    "train_accuracy = accuracy_score(train_pred, y_train)\n",
    "test_accuracy = accuracy_score(test_pred, y_test)\n",
    "train_f1 = f1_score(train_pred, y_train, average=\"weighted\")\n",
    "test_f1 = f1_score(test_pred, y_test, average=\"weighted\")"
   ]
  },
  {
   "cell_type": "code",
   "execution_count": 10,
   "metadata": {},
   "outputs": [
    {
     "data": {
      "image/png": "[encoded data removed]",
      "text/plain": [
       "<Figure size 1200x600 with 4 Axes>"
      ]
     },
     "metadata": {},
     "output_type": "display_data"
    },
    {
     "name": "stdout",
     "output_type": "stream",
     "text": [
      "Training Accuracy: 0.4\n",
      "Testing Accuracy: 0.3\n",
      "Training F-measure: 0.43988\n",
      "Testing F-measure: 0.30433\n"
     ]
    }
   ],
   "source": [
    "# Visualize confusion matrices\n",
    "labels = ['Euphoric', 'Joyfully', 'Sad', 'Surprised']\n",
    "\n",
    "train_cm = confusion_matrix(y_train, train_pred, labels=[1, 2, 3, 4])\n",
    "train_disp = ConfusionMatrixDisplay(confusion_matrix=train_cm, display_labels=labels)\n",
    "\n",
    "test_cm = confusion_matrix(y_test, test_pred, labels=[1, 2, 3, 4])\n",
    "test_disp = ConfusionMatrixDisplay(confusion_matrix=test_cm, display_labels=labels)\n",
    "\n",
    "fig, ax = plt.subplots(1, 2, figsize=(12, 6))\n",
    "train_disp.plot(ax=ax[0])\n",
    "ax[0].set_title(\"Training Confusion Matrix\")\n",
    "test_disp.plot(ax=ax[1])\n",
    "ax[1].set_title(\"Testing Confusion Matrix\")\n",
    "plt.tight_layout()\n",
    "plt.show()\n",
    "\n",
    "# Print accuracy scores\n",
    "print(\"Training Accuracy:\", round(train_accuracy, 5))\n",
    "print(\"Testing Accuracy:\", round(test_accuracy, 5))\n",
    "print(\"Training F-measure:\", round(train_f1, 5))\n",
    "print(\"Testing F-measure:\", round(test_f1, 5))"
   ]
  }
 ],
 "metadata": {
  "kernelspec": {
   "display_name": "Python 3",
   "language": "python",
   "name": "python3"
  },
  "language_info": {
   "codemirror_mode": {
    "name": "ipython",
    "version": 3
   },
   "file_extension": ".py",
   "mimetype": "text/x-python",
   "name": "python",
   "nbconvert_exporter": "python",
   "pygments_lexer": "ipython3",
   "version": "3.11.6"
  }
 },
 "nbformat": 4,
 "nbformat_minor": 2
}
