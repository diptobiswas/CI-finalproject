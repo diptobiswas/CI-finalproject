{
 "cells": [
  {
   "cell_type": "code",
   "execution_count": 3,
   "metadata": {},
   "outputs": [
    {
     "name": "stdout",
     "output_type": "stream",
     "text": [
      "Requirement already satisfied: numpy in /Users/diptobiswas/.pyenv/versions/3.11.6/lib/python3.11/site-packages (1.23.5)\n",
      "Requirement already satisfied: librosa in /Users/diptobiswas/.pyenv/versions/3.11.6/lib/python3.11/site-packages (0.10.1)\n",
      "Requirement already satisfied: torch in /Users/diptobiswas/.pyenv/versions/3.11.6/lib/python3.11/site-packages (2.1.1)\n",
      "Requirement already satisfied: scikit-learn in /Users/diptobiswas/.pyenv/versions/3.11.6/lib/python3.11/site-packages (1.3.2)\n",
      "Requirement already satisfied: torchvision in /Users/diptobiswas/.pyenv/versions/3.11.6/lib/python3.11/site-packages (0.16.1)\n",
      "Requirement already satisfied: transformers in /Users/diptobiswas/.pyenv/versions/3.11.6/lib/python3.11/site-packages (4.35.2)\n",
      "Requirement already satisfied: pysoundfile in /Users/diptobiswas/.pyenv/versions/3.11.6/lib/python3.11/site-packages (0.9.0.post1)\n",
      "Requirement already satisfied: SoundFile in /Users/diptobiswas/.pyenv/versions/3.11.6/lib/python3.11/site-packages (0.12.1)\n",
      "Requirement already satisfied: audioread>=2.1.9 in /Users/diptobiswas/.pyenv/versions/3.11.6/lib/python3.11/site-packages (from librosa) (3.0.1)\n",
      "Requirement already satisfied: scipy>=1.2.0 in /Users/diptobiswas/.pyenv/versions/3.11.6/lib/python3.11/site-packages (from librosa) (1.11.4)\n",
      "Requirement already satisfied: joblib>=0.14 in /Users/diptobiswas/.pyenv/versions/3.11.6/lib/python3.11/site-packages (from librosa) (1.3.2)\n",
      "Requirement already satisfied: decorator>=4.3.0 in /Users/diptobiswas/.pyenv/versions/3.11.6/lib/python3.11/site-packages (from librosa) (5.1.1)\n",
      "Requirement already satisfied: numba>=0.51.0 in /Users/diptobiswas/.pyenv/versions/3.11.6/lib/python3.11/site-packages (from librosa) (0.58.1)\n",
      "Requirement already satisfied: pooch>=1.0 in /Users/diptobiswas/.pyenv/versions/3.11.6/lib/python3.11/site-packages (from librosa) (1.8.0)\n",
      "Requirement already satisfied: soxr>=0.3.2 in /Users/diptobiswas/.pyenv/versions/3.11.6/lib/python3.11/site-packages (from librosa) (0.3.7)\n",
      "Requirement already satisfied: typing-extensions>=4.1.1 in /Users/diptobiswas/.pyenv/versions/3.11.6/lib/python3.11/site-packages (from librosa) (4.8.0)\n",
      "Requirement already satisfied: lazy-loader>=0.1 in /Users/diptobiswas/.pyenv/versions/3.11.6/lib/python3.11/site-packages (from librosa) (0.3)\n",
      "Requirement already satisfied: msgpack>=1.0 in /Users/diptobiswas/.pyenv/versions/3.11.6/lib/python3.11/site-packages (from librosa) (1.0.7)\n",
      "Requirement already satisfied: filelock in /Users/diptobiswas/.pyenv/versions/3.11.6/lib/python3.11/site-packages (from torch) (3.13.1)\n",
      "Requirement already satisfied: sympy in /Users/diptobiswas/.pyenv/versions/3.11.6/lib/python3.11/site-packages (from torch) (1.12)\n",
      "Requirement already satisfied: networkx in /Users/diptobiswas/.pyenv/versions/3.11.6/lib/python3.11/site-packages (from torch) (3.2.1)\n",
      "Requirement already satisfied: jinja2 in /Users/diptobiswas/.pyenv/versions/3.11.6/lib/python3.11/site-packages (from torch) (3.1.2)\n",
      "Requirement already satisfied: fsspec in /Users/diptobiswas/.pyenv/versions/3.11.6/lib/python3.11/site-packages (from torch) (2023.12.0)\n",
      "Requirement already satisfied: threadpoolctl>=2.0.0 in /Users/diptobiswas/.pyenv/versions/3.11.6/lib/python3.11/site-packages (from scikit-learn) (3.2.0)\n",
      "Requirement already satisfied: requests in /Users/diptobiswas/.pyenv/versions/3.11.6/lib/python3.11/site-packages (from torchvision) (2.31.0)\n",
      "Requirement already satisfied: pillow!=8.3.*,>=5.3.0 in /Users/diptobiswas/.pyenv/versions/3.11.6/lib/python3.11/site-packages (from torchvision) (10.1.0)\n",
      "Requirement already satisfied: huggingface-hub<1.0,>=0.16.4 in /Users/diptobiswas/.pyenv/versions/3.11.6/lib/python3.11/site-packages (from transformers) (0.19.4)\n",
      "Requirement already satisfied: packaging>=20.0 in /Users/diptobiswas/.pyenv/versions/3.11.6/lib/python3.11/site-packages (from transformers) (23.2)\n",
      "Requirement already satisfied: pyyaml>=5.1 in /Users/diptobiswas/.pyenv/versions/3.11.6/lib/python3.11/site-packages (from transformers) (6.0.1)\n",
      "Requirement already satisfied: regex!=2019.12.17 in /Users/diptobiswas/.pyenv/versions/3.11.6/lib/python3.11/site-packages (from transformers) (2023.10.3)\n",
      "Requirement already satisfied: tokenizers<0.19,>=0.14 in /Users/diptobiswas/.pyenv/versions/3.11.6/lib/python3.11/site-packages (from transformers) (0.15.0)\n",
      "Requirement already satisfied: safetensors>=0.3.1 in /Users/diptobiswas/.pyenv/versions/3.11.6/lib/python3.11/site-packages (from transformers) (0.4.1)\n",
      "Requirement already satisfied: tqdm>=4.27 in /Users/diptobiswas/.pyenv/versions/3.11.6/lib/python3.11/site-packages (from transformers) (4.66.1)\n",
      "Requirement already satisfied: cffi>=0.6 in /Users/diptobiswas/.pyenv/versions/3.11.6/lib/python3.11/site-packages (from pysoundfile) (1.16.0)\n",
      "Requirement already satisfied: pycparser in /Users/diptobiswas/.pyenv/versions/3.11.6/lib/python3.11/site-packages (from cffi>=0.6->pysoundfile) (2.21)\n",
      "Requirement already satisfied: llvmlite<0.42,>=0.41.0dev0 in /Users/diptobiswas/.pyenv/versions/3.11.6/lib/python3.11/site-packages (from numba>=0.51.0->librosa) (0.41.1)\n",
      "Requirement already satisfied: platformdirs>=2.5.0 in /Users/diptobiswas/.pyenv/versions/3.11.6/lib/python3.11/site-packages (from pooch>=1.0->librosa) (4.0.0)\n",
      "Requirement already satisfied: charset-normalizer<4,>=2 in /Users/diptobiswas/.pyenv/versions/3.11.6/lib/python3.11/site-packages (from requests->torchvision) (3.3.2)\n",
      "Requirement already satisfied: idna<4,>=2.5 in /Users/diptobiswas/.pyenv/versions/3.11.6/lib/python3.11/site-packages (from requests->torchvision) (3.6)\n",
      "Requirement already satisfied: urllib3<3,>=1.21.1 in /Users/diptobiswas/.pyenv/versions/3.11.6/lib/python3.11/site-packages (from requests->torchvision) (2.1.0)\n",
      "Requirement already satisfied: certifi>=2017.4.17 in /Users/diptobiswas/.pyenv/versions/3.11.6/lib/python3.11/site-packages (from requests->torchvision) (2023.11.17)\n",
      "Requirement already satisfied: MarkupSafe>=2.0 in /Users/diptobiswas/.pyenv/versions/3.11.6/lib/python3.11/site-packages (from jinja2->torch) (2.1.3)\n",
      "Requirement already satisfied: mpmath>=0.19 in /Users/diptobiswas/.pyenv/versions/3.11.6/lib/python3.11/site-packages (from sympy->torch) (1.3.0)\n",
      "\n",
      "\u001b[1m[\u001b[0m\u001b[34;49mnotice\u001b[0m\u001b[1;39;49m]\u001b[0m\u001b[39;49m A new release of pip is available: \u001b[0m\u001b[31;49m23.2.1\u001b[0m\u001b[39;49m -> \u001b[0m\u001b[32;49m23.3.1\u001b[0m\n",
      "\u001b[1m[\u001b[0m\u001b[34;49mnotice\u001b[0m\u001b[1;39;49m]\u001b[0m\u001b[39;49m To update, run: \u001b[0m\u001b[32;49mpip install --upgrade pip\u001b[0m\n",
      "Collecting soundfile\n",
      "  Using cached soundfile-0.12.1-py2.py3-none-macosx_11_0_arm64.whl (1.1 MB)\n",
      "Collecting cffi>=1.0 (from soundfile)\n",
      "  Obtaining dependency information for cffi>=1.0 from https://files.pythonhosted.org/packages/18/6c/0406611f3d5aadf4c5b08f6c095d874aed8dfc2d3a19892707d72536d5dc/cffi-1.16.0-cp311-cp311-macosx_11_0_arm64.whl.metadata\n",
      "  Using cached cffi-1.16.0-cp311-cp311-macosx_11_0_arm64.whl.metadata (1.5 kB)\n",
      "Collecting pycparser (from cffi>=1.0->soundfile)\n",
      "  Using cached pycparser-2.21-py2.py3-none-any.whl (118 kB)\n",
      "Using cached cffi-1.16.0-cp311-cp311-macosx_11_0_arm64.whl (176 kB)\n",
      "Installing collected packages: pycparser, cffi, soundfile\n",
      "  Attempting uninstall: pycparser\n",
      "    Found existing installation: pycparser 2.21\n",
      "    Uninstalling pycparser-2.21:\n",
      "      Successfully uninstalled pycparser-2.21\n",
      "  Attempting uninstall: cffi\n",
      "    Found existing installation: cffi 1.16.0\n",
      "    Uninstalling cffi-1.16.0:\n",
      "      Successfully uninstalled cffi-1.16.0\n",
      "  Attempting uninstall: soundfile\n",
      "    Found existing installation: soundfile 0.12.1\n",
      "    Uninstalling soundfile-0.12.1:\n",
      "      Successfully uninstalled soundfile-0.12.1\n",
      "Successfully installed cffi-1.16.0 pycparser-2.21 soundfile-0.12.1\n",
      "\n",
      "\u001b[1m[\u001b[0m\u001b[34;49mnotice\u001b[0m\u001b[1;39;49m]\u001b[0m\u001b[39;49m A new release of pip is available: \u001b[0m\u001b[31;49m23.2.1\u001b[0m\u001b[39;49m -> \u001b[0m\u001b[32;49m23.3.1\u001b[0m\n",
      "\u001b[1m[\u001b[0m\u001b[34;49mnotice\u001b[0m\u001b[1;39;49m]\u001b[0m\u001b[39;49m To update, run: \u001b[0m\u001b[32;49mpip install --upgrade pip\u001b[0m\n"
     ]
    }
   ],
   "source": [
    "!pip install numpy librosa torch scikit-learn torchvision transformers pysoundfile SoundFile\n",
    "!pip install --force-reinstall soundfile"
   ]
  },
  {
   "cell_type": "code",
   "execution_count": 4,
   "metadata": {},
   "outputs": [],
   "source": [
    "import os\n",
    "import librosa\n",
    "import numpy as np\n",
    "from sklearn.model_selection import train_test_split\n",
    "from transformers import ClapModel, ClapProcessor\n",
    "from scipy.io import wavfile\n",
    "import soundfile as sf"
   ]
  },
  {
   "cell_type": "code",
   "execution_count": 5,
   "metadata": {},
   "outputs": [],
   "source": [
    "# Initialize CLAP model\n",
    "model = ClapModel.from_pretrained('laion/larger_clap_music')\n",
    "processor = ClapProcessor.from_pretrained('laion/larger_clap_music')\n"
   ]
  },
  {
   "cell_type": "code",
   "execution_count": 6,
   "metadata": {},
   "outputs": [
    {
     "name": "stderr",
     "output_type": "stream",
     "text": [
      "/var/folders/dl/yt789zmj6vj9qrgvvg0vbj0h0000gn/T/ipykernel_55995/2646419869.py:5: UserWarning: PySoundFile failed. Trying audioread instead.\n",
      "  audio, sr = librosa.load(file_path, sr=None)  # Load with original sample rate\n",
      "/Users/diptobiswas/.pyenv/versions/3.11.6/lib/python3.11/site-packages/librosa/core/audio.py:183: FutureWarning: librosa.core.audio.__audioread_load\n",
      "\tDeprecated as of librosa version 0.10.0.\n",
      "\tIt will be removed in librosa version 1.0.\n",
      "  y, sr_native = __audioread_load(path, offset, duration, dtype)\n"
     ]
    },
    {
     "name": "stdout",
     "output_type": "stream",
     "text": [
      "Error loading data/jazz/jazz.00054.wav: \n"
     ]
    }
   ],
   "source": [
    "# Function to load and process a single .wav file\n",
    "def load_and_resample(file_path, target_sr=48000):\n",
    "    try:\n",
    "        # Load the audio file\n",
    "        audio, sr = librosa.load(file_path, sr=None)  # Load with original sample rate\n",
    "        # Resample the audio to the target sample rate\n",
    "        if sr != target_sr:\n",
    "            audio = librosa.resample(audio, orig_sr=sr, target_sr=target_sr)\n",
    "        return audio, target_sr\n",
    "    except Exception as e:\n",
    "        # Handle exceptions (corrupt or unreadable files)\n",
    "        print(f\"Error loading {file_path}: {e}\")\n",
    "        return None, None\n",
    "\n",
    "# Path to the dataset\n",
    "dataset_path = 'data'\n",
    "\n",
    "# Processed data\n",
    "processed_data = []\n",
    "processed_labels = []\n",
    "\n",
    "# Iterate over genres and files\n",
    "for genre in os.listdir(dataset_path):\n",
    "    genre_path = os.path.join(dataset_path, genre)\n",
    "    if genre == '.DS_Store':\n",
    "        continue\n",
    "    for file in os.listdir(genre_path):\n",
    "        if file.endswith('.wav'):\n",
    "            file_path = os.path.join(genre_path, file)\n",
    "            audio, sr = load_and_resample(file_path)\n",
    "            if audio is not None:\n",
    "                processed_data.append({'array': audio, 'sampling_rate': sr})\n",
    "                processed_labels.append(genre)"
   ]
  },
  {
   "cell_type": "code",
   "execution_count": null,
   "metadata": {},
   "outputs": [],
   "source": [
    "# Split the dataset\n",
    "train, test = train_test_split(processed_data, test_size=0.2, random_state=42)\n",
    "train, val = train_test_split(train, test_size=0.25, random_state=42)  # 0.25 x 0.8 = 0.2\n",
    "\n",
    "# Function to get embeddings\n",
    "def get_embeddings(dataset):\n",
    "    embeddings = []\n",
    "    for sample in dataset:\n",
    "        inputs = processor(audios=sample['array'], sampling_rate=sample['sampling_rate'], return_tensors='pt')\n",
    "        embeddings.append(model.get_audio_features(**inputs))\n",
    "    return embeddings\n",
    "\n",
    "# Get embeddings for each set\n",
    "train_embeddings = get_embeddings(train)\n",
    "val_embeddings = get_embeddings(val)\n",
    "test_embeddings = get_embeddings(test)"
   ]
  }
 ],
 "metadata": {
  "kernelspec": {
   "display_name": "Python 3",
   "language": "python",
   "name": "python3"
  },
  "language_info": {
   "codemirror_mode": {
    "name": "ipython",
    "version": 3
   },
   "file_extension": ".py",
   "mimetype": "text/x-python",
   "name": "python",
   "nbconvert_exporter": "python",
   "pygments_lexer": "ipython3",
   "version": "3.11.6"
  }
 },
 "nbformat": 4,
 "nbformat_minor": 2
}
